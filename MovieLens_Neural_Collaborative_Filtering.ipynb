{
 "cells": [
  {
   "cell_type": "markdown",
   "metadata": {
    "id": "LknuzFS4CcqM"
   },
   "source": [
    "# MovieLens Neural Collaborative Filtering (NCF) Model\n",
    "This notebook creates and evaluates a neural network based recommendation model, based on NCF (Neural Collaborative Filtering).\n",
    "\n",
    "Steps:  \n",
    "1. Data preparation - download the raw dataset, and prepare it for training and evaluation.\n",
    "1. Model authoring - build the NCF neural network\n",
    "1. Model training and evaluation - train our new model and benchmark it\n"
   ]
  },
  {
   "cell_type": "code",
   "execution_count": 2,
   "metadata": {
    "colab": {
     "base_uri": "https://localhost:8080/"
    },
    "id": "IRsEPCFRd4Hv",
    "outputId": "9ecb6dfa-5e0e-45c1-c7bb-60757eb25b85"
   },
   "outputs": [
    {
     "name": "stdout",
     "output_type": "stream",
     "text": [
      "Mounted at /content/drive\n"
     ]
    }
   ],
   "source": [
    "# from google.colab import drive\n",
    "# drive.mount('/content/drive')"
   ]
  },
  {
   "cell_type": "code",
   "execution_count": 13,
   "metadata": {
    "colab": {
     "base_uri": "https://localhost:8080/"
    },
    "id": "KByMElNEejiS",
    "outputId": "b17fe448-c199-4d15-ccd6-6bb7c83cd93a"
   },
   "outputs": [],
   "source": [
    "DATASET_FOLDER = os.getcwd()\n",
    "# %cd {DATASET_FOLDER}"
   ]
  },
  {
   "cell_type": "code",
   "execution_count": 30,
   "metadata": {},
   "outputs": [],
   "source": [
    "# !pip install pandas\n",
    "# !pip install scikit-learn\n",
    "\n",
    "%matplotlib inline"
   ]
  },
  {
   "cell_type": "markdown",
   "metadata": {
    "id": "sS8ZU04gEPDH"
   },
   "source": [
    "## Step 1: Data preparation\n"
   ]
  },
  {
   "cell_type": "code",
   "execution_count": 70,
   "metadata": {
    "id": "uwHbxAhlCM94"
   },
   "outputs": [],
   "source": [
    "from pathlib import Path\n",
    "import shutil\n",
    "import tempfile\n",
    "import urllib.request\n",
    "from urllib.request import urlopen\n",
    "import zipfile\n",
    "import pandas as pd\n",
    "\n",
    "def load_movielens_dataset(dataset_name = 'ml-latest', workspace_path = DATASET_FOLDER + '/data/movielens'):\n",
    "    \"\"\"\n",
    "    Downloads, extracts, and loads MovieLens dataset \n",
    "\n",
    "    Args:\n",
    "    dataset_name (string): dataset name to load, defaults to 'ml_latest'. Options listed here: https://grouplens.org/datasets/movielens/\n",
    "    workspace_path (string): workspace path to use for downloading and extracting the archive, defaults to ~/data/movielens\n",
    "    \"\"\"\n",
    "\n",
    "    archive_url = f'http://files.grouplens.org/datasets/movielens/{dataset_name}.zip'\n",
    "\n",
    "    print(f'Downloading archive from: {archive_url}, this may take a few minutes...')\n",
    "\n",
    "    with urllib.request.urlopen(archive_url) as response:\n",
    "        with tempfile.NamedTemporaryFile(delete=True) as tmp_file:\n",
    "            shutil.copyfileobj(response, tmp_file)\n",
    "            with zipfile.ZipFile(tmp_file) as archive:\n",
    "                archive.extractall(workspace_path)\n",
    "\n",
    "    print(f'Archive files available at workspace: {workspace_path}')\n",
    "\n",
    "    ratings = pd.read_csv(f'{workspace_path}/{dataset_name}/ratings.csv')\n",
    "    movies = pd.read_csv(f'{workspace_path}/{dataset_name}/movies.csv')\n",
    "\n",
    "    print(f'Loaded {ratings.shape[0]:,} ratings and {movies.shape[0]:,} movies.')\n",
    "\n",
    "    return ratings, movies\n"
   ]
  },
  {
   "cell_type": "code",
   "execution_count": 71,
   "metadata": {
    "id": "L--NQZROe58A"
   },
   "outputs": [],
   "source": [
    "# # Let's load some movie ratings!\n",
    "# ratings, movies = load_movielens_dataset(dataset_name='ml-latest')\n",
    "\n",
    "workspace_path = 'data/movielens'\n",
    "dataset_name = 'ml-latest'\n",
    "\n",
    "ratings = pd.read_csv(f\"{workspace_path}/{dataset_name}/ratings.csv\")\n",
    "movies = pd.read_csv(f\"{workspace_path}/{dataset_name}/movies.csv\")\n",
    "user_count = ratings[\"userId\"].nunique()\n",
    "movie_count = movies[\"movieId\"].nunique()"
   ]
  },
  {
   "cell_type": "code",
   "execution_count": 72,
   "metadata": {
    "colab": {
     "base_uri": "https://localhost:8080/"
    },
    "id": "KpV-O70OEgzU",
    "outputId": "a34e2ab4-684e-4880-a65c-1dfb403cee15"
   },
   "outputs": [
    {
     "name": "stdout",
     "output_type": "stream",
     "text": [
      "Sneak peek into the ratings DataFrame:\n",
      "\n",
      "    userId  movieId  rating   timestamp\n",
      "0       1      307     3.5  1256677221\n",
      "1       1      481     3.5  1256677456\n",
      "2       1     1091     1.5  1256677471\n",
      "3       1     1257     4.5  1256677460\n",
      "4       1     1449     4.5  1256677264 \n",
      "\n",
      "Number of users: 283,228\n",
      "Number of ratings: 27,753,444\n",
      "Number of rated movies: 53,889\n",
      "\n",
      "Sneak peek into the movies DataFrame:\n",
      "\n",
      "    movieId                               title   \n",
      "0        1                    Toy Story (1995)  \\\n",
      "1        2                      Jumanji (1995)   \n",
      "2        3             Grumpier Old Men (1995)   \n",
      "3        4            Waiting to Exhale (1995)   \n",
      "4        5  Father of the Bride Part II (1995)   \n",
      "\n",
      "                                        genres  \n",
      "0  Adventure|Animation|Children|Comedy|Fantasy  \n",
      "1                   Adventure|Children|Fantasy  \n",
      "2                               Comedy|Romance  \n",
      "3                         Comedy|Drama|Romance  \n",
      "4                                       Comedy   \n",
      "\n",
      "Number of movies: 58,098 - notice this is higher than the number of rated movies!\n"
     ]
    }
   ],
   "source": [
    "# Let's peek into the loaded DataFrames\n",
    "print('Sneak peek into the ratings DataFrame:\\n\\n', ratings.head(), '\\n')\n",
    "print(f'Number of users: {user_count:,}')\n",
    "print(f'Number of ratings: {ratings.shape[0]:,}')\n",
    "print(f'Number of rated movies: {ratings[\"movieId\"].nunique():,}\\n')\n",
    "print(f'Sneak peek into the movies DataFrame:\\n\\n', movies.head(), '\\n')\n",
    "print(f'Number of movies: {movie_count:,} - notice this is higher than the number of rated movies!')\n"
   ]
  },
  {
   "cell_type": "markdown",
   "metadata": {
    "id": "p_luX10eEzs_"
   },
   "source": [
    "Divide dataset into train and test, so we can later train and valuate the model."
   ]
  },
  {
   "cell_type": "code",
   "execution_count": 22,
   "metadata": {
    "colab": {
     "base_uri": "https://localhost:8080/"
    },
    "id": "h7gg9WPUEkv5",
    "outputId": "9d74aff8-9df1-4856-af65-c8080c583596"
   },
   "outputs": [
    {
     "name": "stdout",
     "output_type": "stream",
     "text": [
      "Training dataset sample size: 22,202,755 positive samples (80%)\n",
      "Test dataset sample size: 5,550,689 positive samples (20%)\n",
      "Total dataset sample size: 27,753,444 positive samples (100%)\n"
     ]
    }
   ],
   "source": [
    "import numpy as np\n",
    "\n",
    "# Define our input and labels data X,Y\n",
    "X = ratings[['userId','movieId']]\n",
    "Y = ratings['rating'].astype(np.float32)\n",
    "\n",
    "# Let's set the split ratio and run the split\n",
    "from sklearn.model_selection import train_test_split\n",
    "random_state = 7\n",
    "test_size = 0.2\n",
    "\n",
    "X_train, X_test, Y_train, Y_test = train_test_split(X, Y, test_size = test_size, random_state = random_state)\n",
    "datasets = {'train': (X_train, Y_train), 'test': (X_test, Y_test)}\n",
    "\n",
    "print(f'Training dataset sample size: {len(X_train):,} positive samples ({len(X_train)/len(X)*100:.0f}%)')\n",
    "print(f'Test dataset sample size: {len(X_test):,} positive samples ({len(X_test)/len(X)*100:.0f}%)')\n",
    "print(f'Total dataset sample size: {len(X):,} positive samples (100%)')"
   ]
  },
  {
   "cell_type": "markdown",
   "metadata": {
    "id": "r2LPA8jcFpkj"
   },
   "source": [
    "## Step 2: Model authoring\n",
    "\n",
    "\n",
    "Model will learn to predict a user's rating for a given movie by learning  user and movie representations via dense embeddings, as well as user-item interactions via MLP (Multi Layer Perceptron).\n",
    "\n",
    "Details of the architecture are in the [2017 paper by He et al.](https://dl.acm.org/doi/pdf/10.1145/3038912.3052569)"
   ]
  },
  {
   "cell_type": "code",
   "execution_count": 23,
   "metadata": {
    "id": "uMfJLjS_GvLw"
   },
   "outputs": [],
   "source": [
    "import torch\n",
    "from torch import nn\n",
    "\n",
    "class NeuralColabFilteringNet(nn.Module):\n",
    "    \"\"\"\n",
    "    Creates an NCF (Neural Collaborative Filtering) network, with configurable model architecture\n",
    "\n",
    "    Args:\n",
    "    user_count(int): Number of unique users in the dataset\n",
    "    movie_count(int): Number of unique movies in the dataset\n",
    "    embedding_size(int)[Optional]: Size of the user and movie embedding, defaults to 32\n",
    "    hidden_layers(tuple)[Optional]: Tuple of integers defining the number of hidden MLP layers and the number of units in each layer, defaults to (64,32,16,8)\n",
    "    dropout_rate(float)[Optional]: Dropout rate to apply after each layer in the range of [0 1], defaults to None\n",
    "    output_range(tuple)[Optional]: Represents the output range, defaults to (1 5) per the star ratings\n",
    "    \"\"\"\n",
    "    def __init__(self, \n",
    "                    user_count,\n",
    "                    movie_count,\n",
    "                    embedding_size=32,\n",
    "                    hidden_layers=(64, 32, 16, 8),\n",
    "                    dropout_rate=None,\n",
    "                    output_range=(1, 5)):\n",
    "        super().__init__()\n",
    "        \n",
    "        # Initialize embedding hash sizes\n",
    "        self.user_hash_size = user_count\n",
    "        self.movie_hash_size = movie_count\n",
    "\n",
    "        # Initialize the model architecture components\n",
    "        self.user_embedding = nn.Embedding(user_count, embedding_size)\n",
    "        self.movie_embedding = nn.Embedding(movie_count, embedding_size)\n",
    "        self.MLP = self._gen_MLP(embedding_size, hidden_layers, dropout_rate)\n",
    "        if (dropout_rate):\n",
    "            self.dropout = nn.Dropout(dropout_rate)\n",
    "        \n",
    "        # Initialize output normalization parameters \n",
    "        assert output_range and len(output_range) == 2, \"output_range has to be a tuple with two integers\"\n",
    "        self.norm_min = min(output_range)\n",
    "        self.norm_range = abs(output_range[0] - output_range[1]) + 1\n",
    "\n",
    "        self._init_params()\n",
    "\n",
    "    def _gen_MLP(self, embedding_size, hidden_layers_units, dropout_rate):\n",
    "        \"Generates the MLP portion of the model architecture\"\n",
    "\n",
    "        assert (embedding_size * 2) == hidden_layers_units[0], \"First input layer number of units has to be equal to twice the embedding size!\"\n",
    "        \n",
    "        hidden_layers = []\n",
    "        input_units = hidden_layers_units[0]\n",
    "\n",
    "        for num_units in hidden_layers_units[1:]:\n",
    "            hidden_layers.append(nn.Linear(input_units, num_units))\n",
    "            hidden_layers.append(nn.ReLU())\n",
    "            if (dropout_rate):\n",
    "                hidden_layers.append(nn.Dropout(dropout_rate))\n",
    "            input_units = num_units\n",
    "        \n",
    "        hidden_layers.append(nn.Linear(hidden_layers_units[-1], 1))\n",
    "        hidden_layers.append(nn.Sigmoid())\n",
    "        return nn.Sequential(*hidden_layers)\n",
    "\n",
    "    def _init_params(self):\n",
    "        \"Initializes model parameters\"\n",
    "        def weights_init(m):\n",
    "            if type(m) == nn.Linear:\n",
    "                torch.nn.init.xavier_uniform_(m.weight)\n",
    "                m.bias.data.fill_(0.01)\n",
    "                \n",
    "        self.user_embedding.weight.data.uniform_(-0.05, 0.05)\n",
    "        self.movie_embedding.weight.data.uniform_(-0.05, 0.05)\n",
    "        self.MLP.apply(weights_init)\n",
    "\n",
    "    def forward(self, user_id, movie_id):\n",
    "        \"Computes forward pass\"\n",
    "        user_features = self.user_embedding(user_id % self.user_hash_size)\n",
    "        movie_features = self.movie_embedding(movie_id % self.movie_hash_size)\n",
    "        x = torch.cat([user_features, movie_features], dim=1)\n",
    "        if hasattr(self, 'dropout'):\n",
    "            x = self.dropout(x)\n",
    "        x = self.MLP(x)\n",
    "        normalized_output = x * self.norm_range + self.norm_min\n",
    "        return normalized_output"
   ]
  },
  {
   "cell_type": "code",
   "execution_count": 58,
   "metadata": {
    "colab": {
     "base_uri": "https://localhost:8080/"
    },
    "id": "2kXK1BOin3ve",
    "outputId": "018b21dd-5c0a-4cb7-9982-4602f32e072e"
   },
   "outputs": [
    {
     "name": "stdout",
     "output_type": "stream",
     "text": [
      "Our model architecture:\n",
      "\n",
      "NeuralColabFilteringNet(\n",
      "  (user_embedding): Embedding(283228, 128)\n",
      "  (movie_embedding): Embedding(58098, 128)\n",
      "  (MLP): Sequential(\n",
      "    (0): Linear(in_features=256, out_features=128, bias=True)\n",
      "    (1): ReLU()\n",
      "    (2): Dropout(p=0.2, inplace=False)\n",
      "    (3): Linear(in_features=128, out_features=64, bias=True)\n",
      "    (4): ReLU()\n",
      "    (5): Dropout(p=0.2, inplace=False)\n",
      "    (6): Linear(in_features=64, out_features=32, bias=True)\n",
      "    (7): ReLU()\n",
      "    (8): Dropout(p=0.2, inplace=False)\n",
      "    (9): Linear(in_features=32, out_features=16, bias=True)\n",
      "    (10): ReLU()\n",
      "    (11): Dropout(p=0.2, inplace=False)\n",
      "    (12): Linear(in_features=16, out_features=1, bias=True)\n",
      "    (13): Sigmoid()\n",
      "  )\n",
      "  (dropout): Dropout(p=0.2, inplace=False)\n",
      ")\n",
      "\n",
      "Number of model parameters: 43,733,505, model training size: 166.83 MB\n"
     ]
    }
   ],
   "source": [
    "# Now let's instantiate an NCF model and try a prediction with uninitialized weights\n",
    "\n",
    "n1 = 8 # 2^8 = 256\n",
    "n2 = 4 # 2^4 = 16\n",
    "\n",
    "embedding_size = 2**(n1-1)\n",
    "\n",
    "hidden_layers = [2 ** i for i in range(n1, n2-1, -1)]\n",
    "\n",
    "ncf = NeuralColabFilteringNet(user_count, movie_count, \n",
    "                              embedding_size = embedding_size,\n",
    "                              hidden_layers = hidden_layers,\n",
    "                              dropout_rate = 0.2)\n",
    "\n",
    "print(f\"Our model architecture:\\n\\n{ncf}\\n\")\n",
    "\n",
    "# Let's look at the model size\n",
    "num_params = sum(p.numel() for p in ncf.parameters())\n",
    "print(f'Number of model parameters: {num_params:,}, model training size: {num_params*4/(1024**2):.2f} MB')"
   ]
  },
  {
   "cell_type": "code",
   "execution_count": 59,
   "metadata": {
    "colab": {
     "base_uri": "https://localhost:8080/"
    },
    "id": "pmGZcbvvPiDT",
    "outputId": "55a229c1-24b5-445d-cad2-e2c17ce1f010"
   },
   "outputs": [
    {
     "name": "stdout",
     "output_type": "stream",
     "text": [
      "Dry run prediction for user-id:22469 and movie-id:73 is: 3.537992477416992, actual rating is: 5.0\n"
     ]
    }
   ],
   "source": [
    "from random import randrange\n",
    "ncf.eval()\n",
    "\n",
    "# Let's try a random prediction\n",
    "ratings_row = randrange(0, ratings.shape[0] - 1)\n",
    "test_user = int(ratings.iloc[ratings_row].userId)\n",
    "test_movie = int(ratings.iloc[ratings_row].movieId)\n",
    "actual_rating = ratings.iloc[ratings_row].rating\n",
    "\n",
    "ncf.to('cpu')\n",
    "predicted_rating = ncf(torch.tensor([test_user]), torch.tensor([test_movie]))\n",
    "print(f\"Dry run prediction for user-id:{test_user} and movie-id:{test_movie} is: {predicted_rating[0][0]}, actual rating is: {actual_rating}\")"
   ]
  },
  {
   "cell_type": "markdown",
   "metadata": {
    "id": "LwL1IgIyvalx"
   },
   "source": [
    "## Step 3: Model training and evaluation\n",
    "Finally, we will train and evaluate the NCF model we created."
   ]
  },
  {
   "cell_type": "code",
   "execution_count": 60,
   "metadata": {
    "id": "Y3d9kwzvvhmp"
   },
   "outputs": [],
   "source": [
    "# We define an iterator to go over the dataset in batches\n",
    "import numpy as np\n",
    "import math\n",
    "\n",
    "class DatasetBatchIterator:\n",
    "    \"Iterates over labaled dataset in batches\"\n",
    "    def __init__(self, X, Y, batch_size, shuffle=True):\n",
    "        self.X = np.asarray(X)\n",
    "        self.Y = np.asarray(Y)\n",
    "\n",
    "        if shuffle:\n",
    "            index = np.random.permutation(X.shape[0])\n",
    "            X = self.X[index]\n",
    "            Y = self.Y[index]\n",
    "\n",
    "        self.batch_size = batch_size\n",
    "        self.n_batches = int(math.ceil(X.shape[0] / batch_size))\n",
    "        self._current = 0 \n",
    "        \n",
    "    def __iter__(self):\n",
    "        return self\n",
    "\n",
    "    def __next__(self):\n",
    "        return self.next()\n",
    "\n",
    "    def next(self):\n",
    "        if self._current >= self.n_batches:\n",
    "            raise StopIteration()\n",
    "        k = self._current\n",
    "        self._current += 1\n",
    "        bs = self.batch_size\n",
    "        X_batch = torch.LongTensor(self.X[k*bs:(k + 1)*bs])\n",
    "        Y_batch = torch.FloatTensor(self.Y[k*bs:(k + 1)*bs])\n",
    "\n",
    "        return self._current, X_batch, Y_batch.view(-1, 1)"
   ]
  },
  {
   "cell_type": "code",
   "execution_count": 61,
   "metadata": {
    "colab": {
     "base_uri": "https://localhost:8080/",
     "height": 450
    },
    "id": "0KztOQCXWKBu",
    "outputId": "128f157b-b57f-4c13-f9eb-5c573654f33f",
    "scrolled": true
   },
   "outputs": [
    {
     "name": "stdout",
     "output_type": "stream",
     "text": [
      "Device configured: cuda:0\n",
      "Starting training loop...\n",
      "Epoch 01/50 | Batch 1000/10851 | Train Loss 1668.86\n",
      "Epoch 01/50 | Batch 2000/10851 | Train Loss 1672.73\n",
      "Epoch 01/50 | Batch 3000/10851 | Train Loss 1627.69\n",
      "Epoch 01/50 | Batch 4000/10851 | Train Loss 1692.13\n",
      "Epoch 01/50 | Batch 5000/10851 | Train Loss 1528.86\n",
      "Epoch 01/50 | Batch 6000/10851 | Train Loss 1439.31\n",
      "Epoch 01/50 | Batch 7000/10851 | Train Loss 1489.02\n",
      "Epoch 01/50 | Batch 8000/10851 | Train Loss 1477.11\n",
      "Epoch 01/50 | Batch 9000/10851 | Train Loss 1502.59\n",
      "Epoch 01/50 | Batch 10000/10851 | Train Loss 1422.19\n",
      "\n",
      "Epoch [001/050][Time:160.80 sec] | MA Train Loss: 0.7744 | MA Validation Loss: 0.7264\n",
      "\n",
      "Epoch 02/50 | Batch 1000/10851 | Train Loss 1452.18\n",
      "Epoch 02/50 | Batch 2000/10851 | Train Loss 1473.08\n",
      "Epoch 02/50 | Batch 3000/10851 | Train Loss 1504.72\n",
      "Epoch 02/50 | Batch 4000/10851 | Train Loss 1546.01\n",
      "Epoch 02/50 | Batch 5000/10851 | Train Loss 1466.82\n",
      "Epoch 02/50 | Batch 6000/10851 | Train Loss 1365.28\n",
      "Epoch 02/50 | Batch 7000/10851 | Train Loss 1382.93\n",
      "Epoch 02/50 | Batch 8000/10851 | Train Loss 1382.17\n",
      "Epoch 02/50 | Batch 9000/10851 | Train Loss 1431.37\n",
      "Epoch 02/50 | Batch 10000/10851 | Train Loss 1323.72\n",
      "\n",
      "Epoch [002/050][Time:160.80 sec] | MA Train Loss: 0.7105 | MA Validation Loss: 0.7000\n",
      "\n",
      "Epoch 03/50 | Batch 1000/10851 | Train Loss 1369.26\n",
      "Epoch 03/50 | Batch 2000/10851 | Train Loss 1372.45\n",
      "Epoch 03/50 | Batch 3000/10851 | Train Loss 1432.26\n",
      "Epoch 03/50 | Batch 4000/10851 | Train Loss 1467.22\n",
      "Epoch 03/50 | Batch 5000/10851 | Train Loss 1385.07\n",
      "Epoch 03/50 | Batch 6000/10851 | Train Loss 1308.69\n",
      "Epoch 03/50 | Batch 7000/10851 | Train Loss 1286.33\n",
      "Epoch 03/50 | Batch 8000/10851 | Train Loss 1333.80\n",
      "Epoch 03/50 | Batch 9000/10851 | Train Loss 1360.64\n",
      "Epoch 03/50 | Batch 10000/10851 | Train Loss 1265.87\n",
      "\n",
      "Epoch [003/050][Time:160.85 sec] | MA Train Loss: 0.6769 | MA Validation Loss: 0.6856\n",
      "\n",
      "Epoch 04/50 | Batch 1000/10851 | Train Loss 1311.25\n",
      "Epoch 04/50 | Batch 2000/10851 | Train Loss 1347.16\n",
      "Epoch 04/50 | Batch 3000/10851 | Train Loss 1397.25\n",
      "Epoch 04/50 | Batch 4000/10851 | Train Loss 1395.99\n",
      "Epoch 04/50 | Batch 5000/10851 | Train Loss 1276.40\n",
      "Epoch 04/50 | Batch 6000/10851 | Train Loss 1264.11\n",
      "Epoch 04/50 | Batch 7000/10851 | Train Loss 1256.96\n",
      "Epoch 04/50 | Batch 8000/10851 | Train Loss 1252.85\n",
      "Epoch 04/50 | Batch 9000/10851 | Train Loss 1338.98\n",
      "Epoch 04/50 | Batch 10000/10851 | Train Loss 1224.58\n",
      "\n",
      "Epoch [004/050][Time:160.33 sec] | MA Train Loss: 0.6497 | MA Validation Loss: 0.6841\n",
      "\n",
      "Epoch 05/50 | Batch 1000/10851 | Train Loss 1280.03\n",
      "Epoch 05/50 | Batch 2000/10851 | Train Loss 1289.35\n",
      "Epoch 05/50 | Batch 3000/10851 | Train Loss 1329.47\n",
      "Epoch 05/50 | Batch 4000/10851 | Train Loss 1361.66\n",
      "Epoch 05/50 | Batch 5000/10851 | Train Loss 1274.31\n",
      "Epoch 05/50 | Batch 6000/10851 | Train Loss 1216.79\n",
      "Epoch 05/50 | Batch 7000/10851 | Train Loss 1210.62\n",
      "Epoch 05/50 | Batch 8000/10851 | Train Loss 1266.00\n",
      "Epoch 05/50 | Batch 9000/10851 | Train Loss 1322.85\n",
      "Epoch 05/50 | Batch 10000/10851 | Train Loss 1203.38\n",
      "\n",
      "Epoch [005/050][Time:160.86 sec] | MA Train Loss: 0.6305 | MA Validation Loss: 0.6867\n",
      "\n",
      "Epoch 06/50 | Batch 1000/10851 | Train Loss 1214.10\n",
      "Epoch 06/50 | Batch 2000/10851 | Train Loss 1262.34\n",
      "Epoch 06/50 | Batch 3000/10851 | Train Loss 1317.16\n",
      "Epoch 06/50 | Batch 4000/10851 | Train Loss 1305.87\n",
      "Epoch 06/50 | Batch 5000/10851 | Train Loss 1222.22\n",
      "Epoch 06/50 | Batch 6000/10851 | Train Loss 1197.51\n",
      "Epoch 06/50 | Batch 7000/10851 | Train Loss 1186.51\n",
      "Epoch 06/50 | Batch 8000/10851 | Train Loss 1240.37\n",
      "Epoch 06/50 | Batch 9000/10851 | Train Loss 1273.48\n",
      "Epoch 06/50 | Batch 10000/10851 | Train Loss 1139.36\n",
      "\n",
      "Epoch [006/050][Time:161.99 sec] | MA Train Loss: 0.6167 | MA Validation Loss: 0.6853\n",
      "\n",
      "Epoch 07/50 | Batch 1000/10851 | Train Loss 1185.92\n",
      "Epoch 07/50 | Batch 2000/10851 | Train Loss 1244.84\n",
      "Epoch 07/50 | Batch 3000/10851 | Train Loss 1302.21\n",
      "Epoch 07/50 | Batch 4000/10851 | Train Loss 1298.09\n",
      "Epoch 07/50 | Batch 5000/10851 | Train Loss 1235.17\n",
      "Epoch 07/50 | Batch 6000/10851 | Train Loss 1184.71\n",
      "Epoch 07/50 | Batch 7000/10851 | Train Loss 1181.22\n",
      "Epoch 07/50 | Batch 8000/10851 | Train Loss 1201.76\n",
      "Epoch 07/50 | Batch 9000/10851 | Train Loss 1246.78\n",
      "Epoch 07/50 | Batch 10000/10851 | Train Loss 1134.91\n",
      "\n",
      "Epoch [007/050][Time:160.79 sec] | MA Train Loss: 0.6065 | MA Validation Loss: 0.6864\n",
      "\n",
      "Early stopping applied. Minimal epoch: 4\n",
      "Training completion duration: 1126.44 sec. Validation Loss: 0.6840631666683632\n"
     ]
    }
   ],
   "source": [
    "# Reset model's parameters, in case the cell is re-run\n",
    "ncf._init_params()\n",
    "ncf.train()\n",
    "\n",
    "import time\n",
    "from torch import optim\n",
    "import copy\n",
    "\n",
    "# Hyper parameters\n",
    "lr = 1e-3\n",
    "wd = 1e-4\n",
    "batch_size = 2046\n",
    "max_epochs = 50\n",
    "early_stop_epoch_threshold = 3\n",
    "\n",
    "# Training loop control parameters\n",
    "no_loss_reduction_epoch_counter = 0\n",
    "min_loss = np.inf\n",
    "min_loss_model_weights = None\n",
    "history = []\n",
    "# iterations_per_epoch = int(math.ceil(len(datasets['train']) // batch_size))\n",
    "iterations_per_epoch = int(math.ceil(len(datasets['train'][0])// batch_size))\n",
    "min_epoch_number = 1\n",
    "epoch_start_time = 0\n",
    "\n",
    "# Setup GPU, if available, else default to CPU\n",
    "device = torch.device('cuda:0' if torch.cuda.is_available() else 'cpu')\n",
    "ncf.to(device)\n",
    "print(f'Device configured: {device}')\n",
    "\n",
    "# Configure loss and optimizer\n",
    "loss_criterion = nn.MSELoss(reduction='sum')\n",
    "optimizer = optim.Adam(ncf.parameters(), lr=lr, weight_decay=wd)\n",
    "\n",
    "# Training loop - iterate over epochs, with early stopping\n",
    "print(f'Starting training loop...')\n",
    "training_start_time = time.perf_counter()\n",
    "for epoch in range(max_epochs):\n",
    "    stats = {'epoch': epoch + 1, 'total': max_epochs}\n",
    "    epoch_start_time = time.perf_counter()\n",
    "\n",
    "    # Every epoch runs training on train set, followed by eval on test set\n",
    "    for phase in ('train', 'test'):\n",
    "        is_training = phase == 'train'\n",
    "        ncf.train(is_training)\n",
    "        running_loss = 0.0\n",
    "        n_batches = 0\n",
    "\n",
    "        datasets_len = len(datasets[phase][0])\n",
    "            \n",
    "        # Iterate on train/test datasets in batches\n",
    "        for batch_idx, x_batch, y_batch in DatasetBatchIterator(datasets[phase][0], datasets[phase][1], batch_size=batch_size, shuffle=is_training):\n",
    "            x_batch, y_batch = x_batch.to(device), y_batch.to(device)\n",
    "                \n",
    "            # We zero out the loss gradient, since PyTorch by default accumulates gradients  \n",
    "            optimizer.zero_grad()\n",
    "\n",
    "            # We need to compute gradients only during training\n",
    "            with torch.set_grad_enabled(is_training):\n",
    "                outputs = ncf(x_batch[:, 0], x_batch[:, 1])\n",
    "                loss = loss_criterion(outputs, y_batch)\n",
    "\n",
    "                if is_training:\n",
    "                    loss.backward()\n",
    "                    optimizer.step()\n",
    "\n",
    "                    if(batch_idx % 1000 == 0):\n",
    "                        print(\n",
    "                                f\"Epoch {epoch+1:02d}/{max_epochs:02d}\"\n",
    "                                f\" | Batch {batch_idx:02d}/{iterations_per_epoch:02d}\"\n",
    "                                f\" | Train Loss {loss.item():.2f}\"\n",
    "                            )\n",
    "                \n",
    "            running_loss += loss.item()\n",
    "        \n",
    "        # Compute overall epoch loss and update history tracker\n",
    "        epoch_loss = running_loss / datasets_len\n",
    "        stats[phase] = epoch_loss\n",
    "        history.append(stats)\n",
    "\n",
    "        # Handle early stopping\n",
    "        if phase == 'test':\n",
    "            stats['time'] = time.perf_counter() - epoch_start_time\n",
    "            print('\\nEpoch [{epoch:03d}/{total:03d}][Time:{time:.2f} sec] | MA Train Loss: {train:.4f} | MA Validation Loss: {test:.4f}\\n'.format(**stats))\n",
    "            if epoch_loss < min_loss:\n",
    "                min_loss = epoch_loss\n",
    "                min_loss_model_weights = copy.deepcopy(ncf.state_dict())\n",
    "                no_loss_reduction_epoch_counter = 0\n",
    "                min_epoch_number = epoch + 1\n",
    "            else:\n",
    "                no_loss_reduction_epoch_counter += 1\n",
    "    if no_loss_reduction_epoch_counter >= early_stop_epoch_threshold:\n",
    "        print(f'Early stopping applied. Minimal epoch: {min_epoch_number}')\n",
    "        break\n",
    "\n",
    "print(f'Training completion duration: {(time.perf_counter() - training_start_time):.2f} sec. Validation Loss: {min_loss}')"
   ]
  },
  {
   "cell_type": "code",
   "execution_count": 62,
   "metadata": {
    "colab": {
     "base_uri": "https://localhost:8080/"
    },
    "id": "wDntSeO4nsY1",
    "outputId": "8c65cf6d-44d2-49d2-92a3-671010cf455d"
   },
   "outputs": [
    {
     "data": {
      "text/plain": [
       "<AxesSubplot: title={'center': 'NCF Model Learning Curves'}, xlabel='epoch'>"
      ]
     },
     "execution_count": 62,
     "metadata": {},
     "output_type": "execute_result"
    },
    {
     "data": {
      "image/png": "[encoded data removed]",
      "text/plain": [
       "<Figure size 1200x600 with 1 Axes>"
      ]
     },
     "metadata": {},
     "output_type": "display_data"
    }
   ],
   "source": [
    "# Now let's check out the learning curves\n",
    "pd.DataFrame(history).drop(columns=['total','time']).plot(x='epoch', figsize=(12,6), title=\"NCF Model Learning Curves\")"
   ]
  },
  {
   "cell_type": "code",
   "execution_count": 63,
   "metadata": {},
   "outputs": [],
   "source": [
    "if not os.path.exists(\"model_weights/\"):\n",
    "    !mkdir model_weights\n",
    "\n",
    "# weights_path = os.getcwd() + \"/model_weights/NCF_Drop_32emb_64lin.pt\"\n",
    "\n",
    "weights_path = os.getcwd() + \"/model_weights/NCF_Drop_128emb_256_16lin.pt\"\n",
    "# Save model\n",
    "torch.save(min_loss_model_weights, weights_path)\n",
    "\n",
    "# Load model\n",
    "# the_model = torch.load(weights_path)"
   ]
  },
  {
   "cell_type": "code",
   "execution_count": 64,
   "metadata": {
    "colab": {
     "base_uri": "https://localhost:8080/"
    },
    "id": "Ew4Wq_IRoWQw",
    "outputId": "3c91d723-5be1-47e6-ba83-6e3f6f912402"
   },
   "outputs": [
    {
     "name": "stdout",
     "output_type": "stream",
     "text": [
      "Final RMSE: 0.8271\n"
     ]
    }
   ],
   "source": [
    "# Let's go ahead and compute the model accuracy metric, we'll go with RMSE\n",
    "\n",
    "ncf.load_state_dict(min_loss_model_weights)\n",
    "ncf.eval()\n",
    "groud_truth, predictions = [], []\n",
    "\n",
    "with torch.no_grad():\n",
    "    for batch_idx, x_batch, y_batch in DatasetBatchIterator(datasets['test'][0], datasets['test'][1], batch_size=batch_size, shuffle=False):\n",
    "        x_batch, y_batch = x_batch.to(device), y_batch.to(device)\n",
    "        outputs = ncf(x_batch[:, 0], x_batch[:, 1])\n",
    "        groud_truth.extend(y_batch.tolist())\n",
    "        predictions.extend(outputs.tolist())\n",
    "\n",
    "groud_truth = np.asarray(groud_truth).ravel()\n",
    "predictions = np.asarray(predictions).ravel()\n"
   ]
  },
  {
   "cell_type": "code",
   "execution_count": 69,
   "metadata": {},
   "outputs": [
    {
     "name": "stdout",
     "output_type": "stream",
     "text": [
      "Final RMSE: 0.8271\n",
      "Final MAPE: 0.2835\n"
     ]
    }
   ],
   "source": [
    "from sklearn.metrics import mean_squared_error\n",
    "from sklearn.metrics import mean_absolute_percentage_error\n",
    "\n",
    "RMSE = mean_squared_error(groud_truth, predictions, squared = False)\n",
    "MAPE = mean_absolute_percentage_error(groud_truth, predictions)\n",
    "\n",
    "# RMSE = np.sqrt(np.mean((predictions - groud_truth)**2))\n",
    "\n",
    "Popylarity Model - Final RMSE: 0.9658 | Final MAPE: 0.3477\n",
    "\n",
    "# embedding_size=32, hidden_layers=(64, 32, 16, 8) : Final RMSE: 0.8421\n",
    "\n",
    "# embedding_size=128, hidden_layers=(256, 128,64, 32, 16)\n",
    "print(f'Final RMSE: {RMSE:.4f}')\n",
    "print(f'Final MAPE: {MAPE:.4f}')"
   ]
  },
  {
   "cell_type": "code",
   "execution_count": 73,
   "metadata": {
    "colab": {
     "base_uri": "https://localhost:8080/"
    },
    "id": "b87Zp1NlZ9Nn",
    "outputId": "24612951-0050-4b84-f148-403e9e1f80b4"
   },
   "outputs": [
    {
     "name": "stdout",
     "output_type": "stream",
     "text": [
      "Dry run prediction for user-id:77059 and movie-id:733 is: 3.7981865406036377, actual rating is: 4.0\n"
     ]
    }
   ],
   "source": [
    "# Let's try a few random prediction on the test set, just for fun!\n",
    "\n",
    "from random  import randrange\n",
    "\n",
    "ratings_row = randrange(0, len(datasets['test'][0]) - 1)\n",
    "test_user = int(datasets['test'][0].iloc[ratings_row].userId)\n",
    "test_movie = int(datasets['test'][0].iloc[ratings_row].movieId)\n",
    "actual_rating = datasets['test'][1].iloc[ratings_row]\n",
    "\n",
    "ncf.to('cpu')\n",
    "ncf.eval()\n",
    "predicted_rating = ncf(torch.tensor([test_user]), torch.tensor([test_movie]))\n",
    "print(f\"Dry run prediction for user-id:{test_user} and movie-id:{test_movie} is: {predicted_rating[0][0]}, actual rating is: {actual_rating}\")"
   ]
  }
 ],
 "metadata": {
  "accelerator": "TPU",
  "colab": {
   "gpuType": "T4",
   "provenance": []
  },
  "gpuClass": "standard",
  "kernelspec": {
   "display_name": "Python 3",
   "language": "python",
   "name": "python3"
  },
  "language_info": {
   "codemirror_mode": {
    "name": "ipython",
    "version": 3
   },
   "file_extension": ".py",
   "mimetype": "text/x-python",
   "name": "python",
   "nbconvert_exporter": "python",
   "pygments_lexer": "ipython3",
   "version": "3.8.10"
  }
 },
 "nbformat": 4,
 "nbformat_minor": 1
}
